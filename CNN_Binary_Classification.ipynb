{
  "nbformat": 4,
  "nbformat_minor": 0,
  "metadata": {
    "colab": {
      "provenance": [],
      "gpuType": "T4"
    },
    "kernelspec": {
      "name": "python3",
      "display_name": "Python 3"
    },
    "language_info": {
      "name": "python"
    },
    "accelerator": "GPU"
  },
  "cells": [
    {
      "cell_type": "code",
      "execution_count": null,
      "metadata": {
        "colab": {
          "base_uri": "https://localhost:8080/"
        },
        "id": "iJ4WgNECjlbV",
        "outputId": "faf36cfc-302f-45d0-9b4b-dec5dc562c05"
      },
      "outputs": [
        {
          "output_type": "stream",
          "name": "stdout",
          "text": [
            "cuda\n"
          ]
        }
      ],
      "source": [
        "import torch\n",
        "device = 'cuda' if torch.cuda.is_available() else 'cpu'"
      ]
    },
    {
      "cell_type": "markdown",
      "source": [
        "Dataset"
      ],
      "metadata": {
        "id": "UagJU6gklCOF"
      }
    },
    {
      "cell_type": "code",
      "source": [
        "X_train = torch.tensor([[[[4, 5, 6, 7], [5, 6, 7, 8], [8, 9, 10, 11], [4, 6, 7, 8]]], [[[-4, 5, 6, -7], [5, -6, 7, 8], [-8, 9, -10, 11], [-4, -6, -7, -8]]]]).float().to(device)\n",
        "X_train.div_(8)\n",
        "y_train = torch.tensor([0,1]).float().to(device)"
      ],
      "metadata": {
        "id": "hN6cd7rpkDns"
      },
      "execution_count": null,
      "outputs": []
    },
    {
      "cell_type": "code",
      "source": [
        "print(X_train.shape)\n",
        "print(y_train.shape)"
      ],
      "metadata": {
        "colab": {
          "base_uri": "https://localhost:8080/"
        },
        "id": "8hGgkptWksKB",
        "outputId": "fefdec45-9cff-4d9f-e8d9-efc0efdbffdd"
      },
      "execution_count": null,
      "outputs": [
        {
          "output_type": "stream",
          "name": "stdout",
          "text": [
            "torch.Size([2, 1, 4, 4])\n",
            "torch.Size([2])\n"
          ]
        }
      ]
    },
    {
      "cell_type": "markdown",
      "source": [
        "CNN Architecture\n",
        ""
      ],
      "metadata": {
        "id": "RGQ54pmgnsnn"
      }
    },
    {
      "cell_type": "code",
      "source": [
        "import torch\n",
        "import torch.nn as nn\n",
        "from torch.optim import Adam\n",
        "\n",
        "def get_model():\n",
        "  model = nn.Sequential(nn.Conv2d(in_channels=1, out_channels=1, kernel_size=3),  #convolutional layer\n",
        "                      nn.MaxPool2d(kernel_size = 2),  #maxpooling layer\n",
        "                      nn.ReLU(),#activation func1\n",
        "                      nn.Flatten(),#flatten layer\n",
        "                      nn.Linear(1,1),#fully connected layer\n",
        "                        nn.Sigmoid()).to(device) #activation func2\n",
        "\n",
        "  loss_func = nn.BCELoss() #Binary Cross Entropy Loss\n",
        "  opt = Adam(model.parameters(),lr = 0.01)    #Adam optimizer\n",
        "  return model,loss_func,opt"
      ],
      "metadata": {
        "id": "v7uMJlzKk4Tm"
      },
      "execution_count": null,
      "outputs": []
    },
    {
      "cell_type": "code",
      "source": [
        "model, criterion, optimizer = get_model()"
      ],
      "metadata": {
        "id": "v0jiCWYBtanz"
      },
      "execution_count": null,
      "outputs": []
    },
    {
      "cell_type": "code",
      "source": [
        "model"
      ],
      "metadata": {
        "colab": {
          "base_uri": "https://localhost:8080/"
        },
        "id": "zEMUUcE8t107",
        "outputId": "f5e34750-32cc-46d7-fa79-2bca7f12db2e"
      },
      "execution_count": null,
      "outputs": [
        {
          "output_type": "execute_result",
          "data": {
            "text/plain": [
              "Sequential(\n",
              "  (0): Conv2d(1, 1, kernel_size=(3, 3), stride=(1, 1))\n",
              "  (1): MaxPool2d(kernel_size=2, stride=2, padding=0, dilation=1, ceil_mode=False)\n",
              "  (2): ReLU()\n",
              "  (3): Flatten(start_dim=1, end_dim=-1)\n",
              "  (4): Linear(in_features=1, out_features=1, bias=True)\n",
              "  (5): Sigmoid()\n",
              ")"
            ]
          },
          "metadata": {},
          "execution_count": 19
        }
      ]
    },
    {
      "cell_type": "code",
      "source": [
        "criterion"
      ],
      "metadata": {
        "colab": {
          "base_uri": "https://localhost:8080/"
        },
        "id": "2ie6DAxYKbYh",
        "outputId": "d3cfb8f7-439f-4910-e2b0-fcbeae21f3e7"
      },
      "execution_count": null,
      "outputs": [
        {
          "output_type": "execute_result",
          "data": {
            "text/plain": [
              "BCELoss()"
            ]
          },
          "metadata": {},
          "execution_count": 36
        }
      ]
    },
    {
      "cell_type": "code",
      "source": [
        "optimizer"
      ],
      "metadata": {
        "colab": {
          "base_uri": "https://localhost:8080/"
        },
        "id": "w1ClMh3uKeTX",
        "outputId": "1609f740-2f12-4a58-b3c2-589ad57d619f"
      },
      "execution_count": null,
      "outputs": [
        {
          "output_type": "execute_result",
          "data": {
            "text/plain": [
              "Adam (\n",
              "Parameter Group 0\n",
              "    amsgrad: False\n",
              "    betas: (0.9, 0.999)\n",
              "    capturable: False\n",
              "    differentiable: False\n",
              "    eps: 1e-08\n",
              "    foreach: None\n",
              "    fused: None\n",
              "    lr: 0.01\n",
              "    maximize: False\n",
              "    weight_decay: 0\n",
              ")"
            ]
          },
          "metadata": {},
          "execution_count": 38
        }
      ]
    },
    {
      "cell_type": "markdown",
      "source": [
        "Training loop\n",
        "\n",
        "---\n",
        "\n"
      ],
      "metadata": {
        "id": "ODyBuFE3r2Rf"
      }
    },
    {
      "cell_type": "code",
      "source": [
        "import torch\n",
        "#method for training one batch of the dataset\n",
        "\n",
        "\n",
        "def train_batch(x,y,model,opt,loss_func):\n",
        "  model.train()\n",
        "  opt.zero_grad()\n",
        "  prediction = model(x)\n",
        "  loss_value = loss_func(prediction.squeeze(),y.squeeze()) #when squeeze()--> all dimensions of size '1' are removed\n",
        "  loss_value.backward()\n",
        "  opt.step()\n",
        "  return loss_value.item() # Get the value of the tensor as a Python scalar\n",
        "\n",
        "\n"
      ],
      "metadata": {
        "id": "xIYC47Senyzx"
      },
      "execution_count": null,
      "outputs": []
    },
    {
      "cell_type": "markdown",
      "source": [
        "Dataset & DataLoader"
      ],
      "metadata": {
        "id": "y_yIKBOZv42f"
      }
    },
    {
      "cell_type": "code",
      "source": [
        "from torch.utils.data import TensorDataset,Dataset,DataLoader\n",
        "trn_dl = DataLoader(TensorDataset(X_train, y_train))\n",
        "\n"
      ],
      "metadata": {
        "id": "Am7R64GUw63D"
      },
      "execution_count": null,
      "outputs": []
    },
    {
      "cell_type": "markdown",
      "source": [
        "Retrieving each batch using DataLoader and training each batch using train_batch function"
      ],
      "metadata": {
        "id": "zZfY-j3O-IQ4"
      }
    },
    {
      "cell_type": "code",
      "source": [
        "import torch\n",
        "for epoch in range(2000):\n",
        "    for ix, batch in enumerate(trn_dl):\n",
        "        x, y = batch\n",
        "        x = x.to(device)\n",
        "        y = y.to(device)\n",
        "        loss_value = train_batch(x, y, model, optimizer, criterion)"
      ],
      "metadata": {
        "id": "3f81ikPh9UaV"
      },
      "execution_count": null,
      "outputs": []
    },
    {
      "cell_type": "markdown",
      "source": [
        "Calculating the loss value"
      ],
      "metadata": {
        "id": "G0x6gR43-OEQ"
      }
    },
    {
      "cell_type": "code",
      "source": [
        "model(X_train[:8])"
      ],
      "metadata": {
        "colab": {
          "base_uri": "https://localhost:8080/"
        },
        "id": "SCtwN59O-Q0I",
        "outputId": "b632e55b-7aee-4493-8280-2bcdd6512991"
      },
      "execution_count": null,
      "outputs": [
        {
          "output_type": "execute_result",
          "data": {
            "text/plain": [
              "tensor([[0.0042],\n",
              "        [1.0000]], device='cuda:0', grad_fn=<SigmoidBackward0>)"
            ]
          },
          "metadata": {},
          "execution_count": 35
        }
      ]
    }
  ]
}